{
 "cells": [
  {
   "cell_type": "markdown",
   "id": "cb6be3bb",
   "metadata": {},
   "source": [
    "# Test data_transformer_node\n",
    "This notebook tests `data_transformer_node` in isolation. It constructs a minimal `GraphState`, invokes the node, and displays the result.\n",
    "If you want to run the LLM path, ensure `OPENAI_API_KEY` is available in the environment; otherwise the fallback path will be executed."
   ]
  },
  {
   "cell_type": "code",
   "execution_count": 2,
   "id": "2c8765b7",
   "metadata": {},
   "outputs": [
    {
     "name": "stdout",
     "output_type": "stream",
     "text": [
      "OPENAI_API_KEY present: True\n"
     ]
    }
   ],
   "source": [
    "# Import the node and GraphState type\n",
    "import os\n",
    "from importlib import reload\n",
    "\n",
    "# Ensure project root is on sys.path if running the notebook from the repo root\n",
    "import sys\n",
    "sys.path.append('..')\n",
    "\n",
    "from src.nodes.data_transformer import data_transformer_node\n",
    "from src.models.graph_state import GraphState\n",
    "\n",
    "# Show whether OPENAI_API_KEY is present (controls LLM path)\n",
    "print('OPENAI_API_KEY present:', bool(os.getenv('OPENAI_API_KEY')))"
   ]
  },
  {
   "cell_type": "code",
   "execution_count": 6,
   "id": "01f750c2",
   "metadata": {},
   "outputs": [
    {
     "name": "stdout",
     "output_type": "stream",
     "text": [
      "🔄 Data Transformer Node: - Title: \"Journey of a Message\"\n",
      "\n",
      "In the vast digital landscape, a small message is sent out into the world.\n",
      "\n",
      "PROCESSING...\n",
      "\n",
      "Hello test.\n",
      "\n",
      "The message travels through invisible pathways, crossing oceans and continents, until it reaches its destination.\n",
      "\n",
      "Hello test.\n",
      "\n",
      "The recipient receives the message, a small but meaningful connection between two individuals in the digital realm.\n",
      "\n",
      "Hello test.\n",
      "\n",
      "And just like that, the journey of a message is complete, leaving a mark in the vast expanse of the internet.\n",
      "Result state: {'input_text': 'Hello', 'processed_text': 'PROCESSING: Hello test', 'transformed_text': '- Title: \"Journey of a Message\"\\n\\nIn the vast digital landscape, a small message is sent out into the world.\\n\\nPROCESSING...\\n\\nHello test.\\n\\nThe message travels through invisible pathways, crossing oceans and continents, until it reaches its destination.\\n\\nHello test.\\n\\nThe recipient receives the message, a small but meaningful connection between two individuals in the digital realm.\\n\\nHello test.\\n\\nAnd just like that, the journey of a message is complete, leaving a mark in the vast expanse of the internet.', 'step': 'data_transformed'}\n",
      "Assertions passed\n"
     ]
    }
   ],
   "source": [
    "# Construct a minimal state and run the node\n",
    "initial_state = GraphState(input_text='Hello', processed_text='PROCESSING: Hello test')\n",
    "\n",
    "result_state = data_transformer_node(initial_state)\n",
    "\n",
    "print('Result state:', result_state)\n",
    "\n",
    "# Simple assertions\n",
    "assert 'transformed_text' in result_state\n",
    "assert result_state['step'] == 'data_transformed'\n",
    "print('Assertions passed')"
   ]
  }
 ],
 "metadata": {
  "kernelspec": {
   "display_name": "Python 3",
   "language": "python",
   "name": "python3"
  },
  "language_info": {
   "codemirror_mode": {
    "name": "ipython",
    "version": 3
   },
   "file_extension": ".py",
   "mimetype": "text/x-python",
   "name": "python",
   "nbconvert_exporter": "python",
   "pygments_lexer": "ipython3",
   "version": "3.12.7"
  }
 },
 "nbformat": 4,
 "nbformat_minor": 5
}
