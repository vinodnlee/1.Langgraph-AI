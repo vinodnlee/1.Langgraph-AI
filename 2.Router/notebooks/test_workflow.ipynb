{
 "cells": [
  {
   "cell_type": "markdown",
   "id": "06c6c7f3",
   "metadata": {},
   "source": [
    "# LangGraph Router - LLM Agent with Tool Routing\n",
    "\n",
    "This notebook demonstrates the LangGraph workflow with:\n",
    "- **LLM Agent** that decides when to call tools\n",
    "- **Automatic Tool Routing** with ToolNode\n",
    "- **Multiply Tool** for calculations"
   ]
  },
  {
   "cell_type": "code",
   "execution_count": 1,
   "id": "bdb54482",
   "metadata": {},
   "outputs": [
    {
     "name": "stdout",
     "output_type": "stream",
     "text": [
      "✅ Imports successful!\n",
      "📦 Workflow loaded from main.py\n"
     ]
    }
   ],
   "source": [
    "# Setup - Add parent directory to path\n",
    "import sys\n",
    "import os\n",
    "sys.path.insert(0, os.path.abspath('..'))\n",
    "\n",
    "# Import the workflow\n",
    "from main import create_workflow, run_workflow\n",
    "from dotenv import load_dotenv\n",
    "\n",
    "# Load environment variables\n",
    "load_dotenv()\n",
    "\n",
    "print(\"✅ Imports successful!\")\n",
    "print(\"📦 Workflow loaded from main.py\")"
   ]
  },
  {
   "cell_type": "code",
   "execution_count": 2,
   "id": "37ee1c2a",
   "metadata": {},
   "outputs": [
    {
     "name": "stdout",
     "output_type": "stream",
     "text": [
      "🧪 Test 1: Multiplication Question\n",
      "============================================================\n",
      "============================================================\n",
      "🚀 Starting LangGraph Workflow with LLM Agent\n",
      "============================================================\n",
      "📥 Input: What is 25 multiplied by 4?\n",
      "🤖 Agent: Analyzing request...\n",
      "   → Tool call requested: multiply_numbers\n",
      "🔢 Multiply Numbers Tool: 25 × 4 = 100\n",
      "🤖 Agent: Analyzing request...\n",
      "   → Tool call requested: multiply_numbers\n",
      "🔢 Multiply Numbers Tool: 25 × 4 = 100\n",
      "🤖 Agent: Analyzing request...\n",
      "   → Direct response: 25 multiplied by 4 is 100.\n",
      "\n",
      "📤 Output: 25 multiplied by 4 is 100.\n",
      "============================================================\n",
      "✅ Workflow completed!\n",
      "============================================================\n",
      "🤖 Agent: Analyzing request...\n",
      "   → Direct response: 25 multiplied by 4 is 100.\n",
      "\n",
      "📤 Output: 25 multiplied by 4 is 100.\n",
      "============================================================\n",
      "✅ Workflow completed!\n",
      "============================================================\n"
     ]
    }
   ],
   "source": [
    "# Test 1: Multiplication Question\n",
    "print(\"🧪 Test 1: Multiplication Question\")\n",
    "print(\"=\" * 60)\n",
    "result1 = run_workflow(\"What is 25 multiplied by 4?\")"
   ]
  },
  {
   "cell_type": "code",
   "execution_count": 3,
   "id": "141cdec7",
   "metadata": {},
   "outputs": [
    {
     "name": "stdout",
     "output_type": "stream",
     "text": [
      "\n",
      "🧪 Test 2: General Question\n",
      "============================================================\n",
      "============================================================\n",
      "🚀 Starting LangGraph Workflow with LLM Agent\n",
      "============================================================\n",
      "📥 Input: What is the capital of France?\n",
      "🤖 Agent: Analyzing request...\n",
      "   → Direct response: The capital of France is Paris.\n",
      "\n",
      "📤 Output: The capital of France is Paris.\n",
      "============================================================\n",
      "✅ Workflow completed!\n",
      "============================================================\n",
      "🤖 Agent: Analyzing request...\n",
      "   → Direct response: The capital of France is Paris.\n",
      "\n",
      "📤 Output: The capital of France is Paris.\n",
      "============================================================\n",
      "✅ Workflow completed!\n",
      "============================================================\n"
     ]
    }
   ],
   "source": [
    "# Test 2: General Question (No tool needed)\n",
    "print(\"\\n🧪 Test 2: General Question\")\n",
    "print(\"=\" * 60)\n",
    "result2 = run_workflow(\"What is the capital of France?\")"
   ]
  },
  {
   "cell_type": "code",
   "execution_count": 4,
   "id": "4ec72bc1",
   "metadata": {},
   "outputs": [
    {
     "name": "stdout",
     "output_type": "stream",
     "text": [
      "📊 Workflow Structure\n",
      "============================================================\n",
      "Graph nodes: ['__start__', 'input_processor', 'agent', 'tools', 'output', '__end__']\n",
      "\n",
      "Workflow created successfully!\n",
      "\n",
      "✅ Mermaid diagram generated!\n",
      "\n",
      "📋 Mermaid Code:\n",
      "------------------------------------------------------------\n",
      "---\n",
      "config:\n",
      "  flowchart:\n",
      "    curve: linear\n",
      "---\n",
      "graph TD;\n",
      "\t__start__([<p>__start__</p>]):::first\n",
      "\tinput_processor(input_processor)\n",
      "\tagent(agent)\n",
      "\ttools(tools)\n",
      "\toutput(output)\n",
      "\t__end__([<p>__end__</p>]):::last\n",
      "\t__start__ --> input_processor;\n",
      "\tagent -. &nbsp;end&nbsp; .-> output;\n",
      "\tagent -.-> tools;\n",
      "\tinput_processor --> agent;\n",
      "\ttools --> agent;\n",
      "\toutput --> __end__;\n",
      "\tclassDef default fill:#f2f0ff,line-height:1.2\n",
      "\tclassDef first fill-opacity:0\n",
      "\tclassDef last fill:#bfb6fc\n",
      "\n",
      "------------------------------------------------------------\n",
      "\n",
      "💡 Copy the code above to https://mermaid.live to visualize\n"
     ]
    },
    {
     "data": {
      "image/png": "[encoded data removed]",
      "text/plain": [
       "<IPython.core.display.Image object>"
      ]
     },
     "metadata": {},
     "output_type": "display_data"
    },
    {
     "name": "stdout",
     "output_type": "stream",
     "text": [
      "\n",
      "✅ Graph visualization displayed!\n"
     ]
    }
   ],
   "source": [
    "# Test 3: Visualize the Workflow Graph\n",
    "from IPython.display import Image, display\n",
    "\n",
    "print(\"📊 Workflow Structure\")\n",
    "print(\"=\" * 60)\n",
    "\n",
    "app = create_workflow()\n",
    "\n",
    "# Get graph info\n",
    "print(f\"Graph nodes: {list(app.get_graph().nodes.keys())}\")\n",
    "print(f\"\\nWorkflow created successfully!\")\n",
    "\n",
    "# Try to render the graph\n",
    "try:\n",
    "    # Get Mermaid diagram\n",
    "    mermaid_text = app.get_graph().draw_mermaid()\n",
    "    print(\"\\n✅ Mermaid diagram generated!\")\n",
    "    print(\"\\n📋 Mermaid Code:\")\n",
    "    print(\"-\" * 60)\n",
    "    print(mermaid_text)\n",
    "    print(\"-\" * 60)\n",
    "    print(\"\\n💡 Copy the code above to https://mermaid.live to visualize\")\n",
    "    \n",
    "    # Try PNG rendering\n",
    "    try:\n",
    "        img = app.get_graph().draw_mermaid_png()\n",
    "        display(Image(img))\n",
    "        print(\"\\n✅ Graph visualization displayed!\")\n",
    "    except:\n",
    "        print(\"\\n⚠️ PNG rendering failed (network issue)\")\n",
    "        print(\"💡 Use LangGraph Studio: langgraph dev\")\n",
    "        \n",
    "except Exception as e:\n",
    "    print(f\"❌ Error generating diagram: {e}\")"
   ]
  },
  {
   "cell_type": "code",
   "execution_count": 5,
   "id": "656a7725",
   "metadata": {},
   "outputs": [
    {
     "name": "stdout",
     "output_type": "stream",
     "text": [
      "🎯 Interactive Testing\n",
      "============================================================\n",
      "Examples:\n",
      "  - 'What is 50 times 20?'\n",
      "  - 'Tell me about Python'\n",
      "  - 'Calculate 7 multiplied by 9'\n",
      "============================================================\n",
      "============================================================\n",
      "🚀 Starting LangGraph Workflow with LLM Agent\n",
      "============================================================\n",
      "📥 Input: hi\n",
      "============================================================\n",
      "🚀 Starting LangGraph Workflow with LLM Agent\n",
      "============================================================\n",
      "📥 Input: hi\n",
      "🤖 Agent: Analyzing request...\n",
      "   → Direct response: Hello! How can I assist you today?\n",
      "\n",
      "📤 Output: Hello! How can I assist you today?\n",
      "============================================================\n",
      "✅ Workflow completed!\n",
      "============================================================\n",
      "🤖 Agent: Analyzing request...\n",
      "   → Direct response: Hello! How can I assist you today?\n",
      "\n",
      "📤 Output: Hello! How can I assist you today?\n",
      "============================================================\n",
      "✅ Workflow completed!\n",
      "============================================================\n"
     ]
    }
   ],
   "source": [
    "# Test 4: Interactive Testing - Try Your Own Question!\n",
    "print(\"🎯 Interactive Testing\")\n",
    "print(\"=\" * 60)\n",
    "print(\"Examples:\")\n",
    "print(\"  - 'What is 50 times 20?'\")\n",
    "print(\"  - 'Tell me about Python'\")\n",
    "print(\"  - 'Calculate 7 multiplied by 9'\")\n",
    "print(\"=\" * 60)\n",
    "\n",
    "your_question = input(\"\\n💬 Enter your question: \")\n",
    "if your_question:\n",
    "    result = run_workflow(your_question)"
   ]
  },
  {
   "cell_type": "code",
   "execution_count": 6,
   "id": "5b66988c",
   "metadata": {},
   "outputs": [
    {
     "name": "stdout",
     "output_type": "stream",
     "text": [
      "🔍 Understanding Agent Decisions\n",
      "============================================================\n",
      "Question: Multiply 12 and 15\n",
      "\n",
      "📝 Workflow Execution:\n",
      "📥 Input: Multiply 12 and 15\n",
      "🤖 Agent: Analyzing request...\n",
      "   → Tool call requested: multiply_numbers\n",
      "🔢 Multiply Numbers Tool: 12 × 15 = 180\n",
      "🤖 Agent: Analyzing request...\n",
      "   → Tool call requested: multiply_numbers\n",
      "🔢 Multiply Numbers Tool: 12 × 15 = 180\n",
      "🤖 Agent: Analyzing request...\n",
      "   → Direct response: The product of 12 and 15 is 180.\n",
      "\n",
      "📤 Output: The product of 12 and 15 is 180.\n",
      "\n",
      "📊 Final State:\n",
      "  - Messages: 4 messages in conversation\n",
      "  - Output: The product of 12 and 15 is 180.\n",
      "  - Step: \n",
      "\n",
      "💬 Message Flow:\n",
      "  1. HumanMessage\n",
      "     Content: Multiply 12 and 15\n",
      "  2. AIMessage\n",
      "     Tool Calls: 1 call(s)\n",
      "  3. ToolMessage\n",
      "     Content: 180\n",
      "  4. AIMessage\n",
      "     Content: The product of 12 and 15 is 180.\n",
      "🤖 Agent: Analyzing request...\n",
      "   → Direct response: The product of 12 and 15 is 180.\n",
      "\n",
      "📤 Output: The product of 12 and 15 is 180.\n",
      "\n",
      "📊 Final State:\n",
      "  - Messages: 4 messages in conversation\n",
      "  - Output: The product of 12 and 15 is 180.\n",
      "  - Step: \n",
      "\n",
      "💬 Message Flow:\n",
      "  1. HumanMessage\n",
      "     Content: Multiply 12 and 15\n",
      "  2. AIMessage\n",
      "     Tool Calls: 1 call(s)\n",
      "  3. ToolMessage\n",
      "     Content: 180\n",
      "  4. AIMessage\n",
      "     Content: The product of 12 and 15 is 180.\n"
     ]
    }
   ],
   "source": [
    "# Test 5: Inspect the Agent's Decision Making\n",
    "print(\"🔍 Understanding Agent Decisions\")\n",
    "print(\"=\" * 60)\n",
    "\n",
    "# Create a test case\n",
    "test_question = \"Multiply 12 and 15\"\n",
    "\n",
    "app = create_workflow()\n",
    "initial_state = {\n",
    "    \"input_text\": test_question,\n",
    "    \"processed_text\": \"\",\n",
    "    \"transformed_text\": \"\",\n",
    "    \"output_text\": \"\",\n",
    "    \"step\": \"\",\n",
    "    \"messages\": []\n",
    "}\n",
    "\n",
    "print(f\"Question: {test_question}\")\n",
    "print(\"\\n📝 Workflow Execution:\")\n",
    "\n",
    "# Run and inspect\n",
    "result = app.invoke(initial_state)\n",
    "\n",
    "print(\"\\n📊 Final State:\")\n",
    "print(f\"  - Messages: {len(result.get('messages', []))} messages in conversation\")\n",
    "print(f\"  - Output: {result.get('output_text', 'N/A')}\")\n",
    "print(f\"  - Step: {result.get('step', 'N/A')}\")\n",
    "\n",
    "# Show message types\n",
    "print(\"\\n💬 Message Flow:\")\n",
    "for i, msg in enumerate(result.get('messages', []), 1):\n",
    "    msg_type = type(msg).__name__\n",
    "    content = getattr(msg, 'content', '')[:50] + '...' if len(getattr(msg, 'content', '')) > 50 else getattr(msg, 'content', '')\n",
    "    tool_calls = getattr(msg, 'tool_calls', None)\n",
    "    print(f\"  {i}. {msg_type}\")\n",
    "    if content:\n",
    "        print(f\"     Content: {content}\")\n",
    "    if tool_calls:\n",
    "        print(f\"     Tool Calls: {len(tool_calls)} call(s)\")"
   ]
  }
 ],
 "metadata": {
  "kernelspec": {
   "display_name": "Python 3",
   "language": "python",
   "name": "python3"
  },
  "language_info": {
   "codemirror_mode": {
    "name": "ipython",
    "version": 3
   },
   "file_extension": ".py",
   "mimetype": "text/x-python",
   "name": "python",
   "nbconvert_exporter": "python",
   "pygments_lexer": "ipython3",
   "version": "3.12.7"
  }
 },
 "nbformat": 4,
 "nbformat_minor": 5
}
