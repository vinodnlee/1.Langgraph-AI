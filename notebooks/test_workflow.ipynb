{
 "cells": [
  {
   "cell_type": "markdown",
   "id": "06c6c7f3",
   "metadata": {},
   "source": [
    "# LangGraph Sample Project - Interactive Testing\n",
    "\n",
    "This notebook demonstrates the LangGraph workflow with 3 simple nodes."
   ]
  },
  {
   "cell_type": "code",
   "execution_count": 2,
   "id": "bdb54482",
   "metadata": {},
   "outputs": [
    {
     "data": {
      "text/plain": [
       "True"
      ]
     },
     "execution_count": 2,
     "metadata": {},
     "output_type": "execute_result"
    }
   ],
   "source": [
    "# Import required modules\n",
    "from main import create_langgraph_workflow, run_workflow\n",
    "import os\n",
    "from dotenv import load_dotenv\n",
    "\n",
    "# Load environment variables\n",
    "load_dotenv()"
   ]
  },
  {
   "cell_type": "code",
   "execution_count": 3,
   "id": "37ee1c2a",
   "metadata": {},
   "outputs": [
    {
     "name": "stdout",
     "output_type": "stream",
     "text": [
      "🚀 Starting LangGraph Workflow...\n",
      "==================================================\n",
      "🔍 Input Processor Node: Processing: WELCOME TO LANGGRAPH! THIS IS AN AMAZING FRAMEWORK FOR BUILDING AI WORKFLOWS.\n",
      "🔄 Data Transformer Node: ✨ TRANSFORMED: Processing: WELCOME TO LANGGRAPH! THIS IS AN AMAZING FRAMEWORK FOR BUILDING AI WORKFLOWS. ✨\n",
      "📤 Output Generator Node: Final output generated\n",
      "==================================================\n",
      "🎉 Workflow completed!\n",
      "📋 LANGGRAPH WORKFLOW RESULT\n",
      "═══════════════════════════\n",
      "Original Input: Welcome to LangGraph! This is an amazing framework for building AI workflows.\n",
      "Final Output: ✨ TRANSFORMED: Processing: WELCOME TO LANGGRAPH! THIS IS AN AMAZING FRAMEWORK FOR BUILDING AI WORKFLOWS. ✨\n",
      "═══════════════════════════\n",
      "✅ Processing completed successfully!\n",
      "🔍 Input Processor Node: Processing: WELCOME TO LANGGRAPH! THIS IS AN AMAZING FRAMEWORK FOR BUILDING AI WORKFLOWS.\n",
      "🔄 Data Transformer Node: ✨ TRANSFORMED: Processing: WELCOME TO LANGGRAPH! THIS IS AN AMAZING FRAMEWORK FOR BUILDING AI WORKFLOWS. ✨\n",
      "📤 Output Generator Node: Final output generated\n",
      "==================================================\n",
      "🎉 Workflow completed!\n",
      "📋 LANGGRAPH WORKFLOW RESULT\n",
      "═══════════════════════════\n",
      "Original Input: Welcome to LangGraph! This is an amazing framework for building AI workflows.\n",
      "Final Output: ✨ TRANSFORMED: Processing: WELCOME TO LANGGRAPH! THIS IS AN AMAZING FRAMEWORK FOR BUILDING AI WORKFLOWS. ✨\n",
      "═══════════════════════════\n",
      "✅ Processing completed successfully!\n"
     ]
    },
    {
     "name": "stderr",
     "output_type": "stream",
     "text": [
      "Failed to multipart ingest runs: langsmith.utils.LangSmithError: Failed to POST https://api.smith.langchain.com/runs/multipart in LangSmith API. HTTPError('403 Client Error: Forbidden for url: https://api.smith.langchain.com/runs/multipart', '{\"error\":\"Forbidden\"}\\n')\n",
      "Failed to send compressed multipart ingest: langsmith.utils.LangSmithError: Failed to POST https://api.smith.langchain.com/runs/multipart in LangSmith API. HTTPError('403 Client Error: Forbidden for url: https://api.smith.langchain.com/runs/multipart', '{\"error\":\"Forbidden\"}\\n')\n",
      "Failed to send compressed multipart ingest: langsmith.utils.LangSmithError: Failed to POST https://api.smith.langchain.com/runs/multipart in LangSmith API. HTTPError('403 Client Error: Forbidden for url: https://api.smith.langchain.com/runs/multipart', '{\"error\":\"Forbidden\"}\\n')\n",
      "Failed to send compressed multipart ingest: langsmith.utils.LangSmithError: Failed to POST https://api.smith.langchain.com/runs/multipart in LangSmith API. HTTPError('403 Client Error: Forbidden for url: https://api.smith.langchain.com/runs/multipart', '{\"error\":\"Forbidden\"}\\n')\n",
      "Failed to send compressed multipart ingest: langsmith.utils.LangSmithError: Failed to POST https://api.smith.langchain.com/runs/multipart in LangSmith API. HTTPError('403 Client Error: Forbidden for url: https://api.smith.langchain.com/runs/multipart', '{\"error\":\"Forbidden\"}\\n')\n",
      "Failed to send compressed multipart ingest: langsmith.utils.LangSmithError: Failed to POST https://api.smith.langchain.com/runs/multipart in LangSmith API. HTTPError('403 Client Error: Forbidden for url: https://api.smith.langchain.com/runs/multipart', '{\"error\":\"Forbidden\"}\\n')\n",
      "Failed to send compressed multipart ingest: langsmith.utils.LangSmithError: Failed to POST https://api.smith.langchain.com/runs/multipart in LangSmith API. HTTPError('403 Client Error: Forbidden for url: https://api.smith.langchain.com/runs/multipart', '{\"error\":\"Forbidden\"}\\n')\n",
      "Failed to send compressed multipart ingest: langsmith.utils.LangSmithError: Failed to POST https://api.smith.langchain.com/runs/multipart in LangSmith API. HTTPError('403 Client Error: Forbidden for url: https://api.smith.langchain.com/runs/multipart', '{\"error\":\"Forbidden\"}\\n')\n",
      "Failed to send compressed multipart ingest: langsmith.utils.LangSmithError: Failed to POST https://api.smith.langchain.com/runs/multipart in LangSmith API. HTTPError('403 Client Error: Forbidden for url: https://api.smith.langchain.com/runs/multipart', '{\"error\":\"Forbidden\"}\\n')\n",
      "Failed to send compressed multipart ingest: langsmith.utils.LangSmithError: Failed to POST https://api.smith.langchain.com/runs/multipart in LangSmith API. HTTPError('403 Client Error: Forbidden for url: https://api.smith.langchain.com/runs/multipart', '{\"error\":\"Forbidden\"}\\n')\n",
      "Failed to send compressed multipart ingest: langsmith.utils.LangSmithError: Failed to POST https://api.smith.langchain.com/runs/multipart in LangSmith API. HTTPError('403 Client Error: Forbidden for url: https://api.smith.langchain.com/runs/multipart', '{\"error\":\"Forbidden\"}\\n')\n"
     ]
    }
   ],
   "source": [
    "# Test the workflow with a sample input\n",
    "test_input = \"Welcome to LangGraph! This is an amazing framework for building AI workflows.\"\n",
    "result = run_workflow(test_input)"
   ]
  },
  {
   "cell_type": "code",
   "execution_count": null,
   "id": "141cdec7",
   "metadata": {},
   "outputs": [
    {
     "name": "stdout",
     "output_type": "stream",
     "text": [
      "Workflow created successfully!\n",
      "Graph nodes: ['__start__', 'input_processor', 'data_transformer', 'output_generator']\n",
      "\n",
      "Available methods: ['InputType', 'OutputType', 'abatch', 'abatch_as_completed', 'abulk_update_state', 'aclear_cache', 'aget_graph', 'aget_state', 'aget_state_history', 'aget_subgraphs', 'ainvoke', 'as_tool', 'assign', 'astream', 'astream_events', 'astream_log', 'atransform', 'attach_branch', 'attach_edge', 'attach_node', 'aupdate_state', 'batch', 'batch_as_completed', 'bind', 'builder', 'bulk_update_state', 'cache', 'cache_policy', 'channels', 'checkpointer', 'clear_cache', 'config', 'config_schema', 'config_specs', 'context_schema', 'copy', 'debug', 'get_config_jsonschema', 'get_context_jsonschema', 'get_graph', 'get_input_jsonschema', 'get_input_schema', 'get_name', 'get_output_jsonschema', 'get_output_schema', 'get_prompts', 'get_state', 'get_state_history', 'get_subgraphs', 'input_channels', 'input_schema', 'interrupt_after_nodes', 'interrupt_before_nodes', 'invoke', 'map', 'name', 'nodes', 'output_channels', 'output_schema', 'pick', 'pipe', 'retry_policy', 'schema_to_mapper', 'step_timeout', 'store', 'stream', 'stream_channels', 'stream_channels_asis', 'stream_channels_list', 'stream_eager', 'stream_mode', 'transform', 'trigger_to_nodes', 'update_state', 'validate', 'with_alisteners', 'with_config', 'with_fallbacks', 'with_listeners', 'with_retry', 'with_types']\n",
      "\n",
      "==================================================\n",
      "Testing the compiled workflow:\n",
      "==================================================\n",
      "🔍 Input Processor Node: Processing: TESTING THE WORKFLOW STRUCTURE!\n",
      "🔄 Data Transformer Node: ✨ TRANSFORMED: Processing: TESTING THE WORKFLOW STRUCTURE! ✨\n",
      "📤 Output Generator Node: Final output generated\n",
      "\n",
      "Workflow execution result:\n",
      "Final step: output_generated\n",
      "Input: Testing the workflow structure!\n",
      "Output: 📋 LANGGRAPH WORKFLOW RESULT\n",
      "═══════════════════════════\n",
      "Original Input: Testing the workflow structure!\n",
      "Final Output: ✨ TRANSFORMED: Processing: TESTING THE WORKFLOW STRUCTURE! ✨\n",
      "═══════════════════════════\n",
      "✅ Processing completed successfully!\n"
     ]
    },
    {
     "ename": "ValueError",
     "evalue": "Failed to reach https://mermaid.ink API while trying to render your graph. Status code: 204.\n\nTo resolve this issue:\n1. Check your internet connection and try again\n2. Try with higher retry settings: `draw_mermaid_png(..., max_retries=5, retry_delay=2.0)`\n3. Use the Pyppeteer rendering method which will render your graph locally in a browser: `draw_mermaid_png(..., draw_method=MermaidDrawMethod.PYPPETEER)`",
     "output_type": "error",
     "traceback": [
      "\u001b[31m---------------------------------------------------------------------------\u001b[39m",
      "\u001b[31mValueError\u001b[39m                                Traceback (most recent call last)",
      "\u001b[36mCell\u001b[39m\u001b[36m \u001b[39m\u001b[32mIn[19]\u001b[39m\u001b[32m, line 30\u001b[39m\n\u001b[32m     27\u001b[39m \u001b[38;5;28mprint\u001b[39m(\u001b[33mf\u001b[39m\u001b[33m\"\u001b[39m\u001b[33mInput: \u001b[39m\u001b[38;5;132;01m{\u001b[39;00mresult.get(\u001b[33m'\u001b[39m\u001b[33minput_text\u001b[39m\u001b[33m'\u001b[39m,\u001b[38;5;250m \u001b[39m\u001b[33m'\u001b[39m\u001b[33mN/A\u001b[39m\u001b[33m'\u001b[39m)\u001b[38;5;132;01m}\u001b[39;00m\u001b[33m\"\u001b[39m)\n\u001b[32m     28\u001b[39m \u001b[38;5;28mprint\u001b[39m(\u001b[33mf\u001b[39m\u001b[33m\"\u001b[39m\u001b[33mOutput: \u001b[39m\u001b[38;5;132;01m{\u001b[39;00mresult.get(\u001b[33m'\u001b[39m\u001b[33moutput_text\u001b[39m\u001b[33m'\u001b[39m,\u001b[38;5;250m \u001b[39m\u001b[33m'\u001b[39m\u001b[33mN/A\u001b[39m\u001b[33m'\u001b[39m)\u001b[38;5;132;01m}\u001b[39;00m\u001b[33m\"\u001b[39m)\n\u001b[32m---> \u001b[39m\u001b[32m30\u001b[39m display(Image(\u001b[43mapp\u001b[49m\u001b[43m.\u001b[49m\u001b[43mget_graph\u001b[49m\u001b[43m(\u001b[49m\u001b[43m)\u001b[49m\u001b[43m.\u001b[49m\u001b[43mdraw_mermaid_png\u001b[49m\u001b[43m(\u001b[49m\u001b[43m)\u001b[49m))\n",
      "\u001b[36mFile \u001b[39m\u001b[32mc:\\Users\\vinod\\AppData\\Local\\Programs\\Python\\Python312\\Lib\\site-packages\\langchain_core\\runnables\\graph.py:694\u001b[39m, in \u001b[36mGraph.draw_mermaid_png\u001b[39m\u001b[34m(self, curve_style, node_colors, wrap_label_n_words, output_file_path, draw_method, background_color, padding, max_retries, retry_delay, frontmatter_config, base_url)\u001b[39m\n\u001b[32m    684\u001b[39m \u001b[38;5;28;01mfrom\u001b[39;00m\u001b[38;5;250m \u001b[39m\u001b[34;01mlangchain_core\u001b[39;00m\u001b[34;01m.\u001b[39;00m\u001b[34;01mrunnables\u001b[39;00m\u001b[34;01m.\u001b[39;00m\u001b[34;01mgraph_mermaid\u001b[39;00m\u001b[38;5;250m \u001b[39m\u001b[38;5;28;01mimport\u001b[39;00m (  \u001b[38;5;66;03m# noqa: PLC0415\u001b[39;00m\n\u001b[32m    685\u001b[39m     draw_mermaid_png,\n\u001b[32m    686\u001b[39m )\n\u001b[32m    688\u001b[39m mermaid_syntax = \u001b[38;5;28mself\u001b[39m.draw_mermaid(\n\u001b[32m    689\u001b[39m     curve_style=curve_style,\n\u001b[32m    690\u001b[39m     node_colors=node_colors,\n\u001b[32m    691\u001b[39m     wrap_label_n_words=wrap_label_n_words,\n\u001b[32m    692\u001b[39m     frontmatter_config=frontmatter_config,\n\u001b[32m    693\u001b[39m )\n\u001b[32m--> \u001b[39m\u001b[32m694\u001b[39m \u001b[38;5;28;01mreturn\u001b[39;00m \u001b[43mdraw_mermaid_png\u001b[49m\u001b[43m(\u001b[49m\n\u001b[32m    695\u001b[39m \u001b[43m    \u001b[49m\u001b[43mmermaid_syntax\u001b[49m\u001b[43m=\u001b[49m\u001b[43mmermaid_syntax\u001b[49m\u001b[43m,\u001b[49m\n\u001b[32m    696\u001b[39m \u001b[43m    \u001b[49m\u001b[43moutput_file_path\u001b[49m\u001b[43m=\u001b[49m\u001b[43moutput_file_path\u001b[49m\u001b[43m,\u001b[49m\n\u001b[32m    697\u001b[39m \u001b[43m    \u001b[49m\u001b[43mdraw_method\u001b[49m\u001b[43m=\u001b[49m\u001b[43mdraw_method\u001b[49m\u001b[43m,\u001b[49m\n\u001b[32m    698\u001b[39m \u001b[43m    \u001b[49m\u001b[43mbackground_color\u001b[49m\u001b[43m=\u001b[49m\u001b[43mbackground_color\u001b[49m\u001b[43m,\u001b[49m\n\u001b[32m    699\u001b[39m \u001b[43m    \u001b[49m\u001b[43mpadding\u001b[49m\u001b[43m=\u001b[49m\u001b[43mpadding\u001b[49m\u001b[43m,\u001b[49m\n\u001b[32m    700\u001b[39m \u001b[43m    \u001b[49m\u001b[43mmax_retries\u001b[49m\u001b[43m=\u001b[49m\u001b[43mmax_retries\u001b[49m\u001b[43m,\u001b[49m\n\u001b[32m    701\u001b[39m \u001b[43m    \u001b[49m\u001b[43mretry_delay\u001b[49m\u001b[43m=\u001b[49m\u001b[43mretry_delay\u001b[49m\u001b[43m,\u001b[49m\n\u001b[32m    702\u001b[39m \u001b[43m    \u001b[49m\u001b[43mbase_url\u001b[49m\u001b[43m=\u001b[49m\u001b[43mbase_url\u001b[49m\u001b[43m,\u001b[49m\n\u001b[32m    703\u001b[39m \u001b[43m\u001b[49m\u001b[43m)\u001b[49m\n",
      "\u001b[36mFile \u001b[39m\u001b[32mc:\\Users\\vinod\\AppData\\Local\\Programs\\Python\\Python312\\Lib\\site-packages\\langchain_core\\runnables\\graph_mermaid.py:310\u001b[39m, in \u001b[36mdraw_mermaid_png\u001b[39m\u001b[34m(mermaid_syntax, output_file_path, draw_method, background_color, padding, max_retries, retry_delay, base_url)\u001b[39m\n\u001b[32m    304\u001b[39m     img_bytes = asyncio.run(\n\u001b[32m    305\u001b[39m         _render_mermaid_using_pyppeteer(\n\u001b[32m    306\u001b[39m             mermaid_syntax, output_file_path, background_color, padding\n\u001b[32m    307\u001b[39m         )\n\u001b[32m    308\u001b[39m     )\n\u001b[32m    309\u001b[39m \u001b[38;5;28;01melif\u001b[39;00m draw_method == MermaidDrawMethod.API:\n\u001b[32m--> \u001b[39m\u001b[32m310\u001b[39m     img_bytes = \u001b[43m_render_mermaid_using_api\u001b[49m\u001b[43m(\u001b[49m\n\u001b[32m    311\u001b[39m \u001b[43m        \u001b[49m\u001b[43mmermaid_syntax\u001b[49m\u001b[43m,\u001b[49m\n\u001b[32m    312\u001b[39m \u001b[43m        \u001b[49m\u001b[43moutput_file_path\u001b[49m\u001b[43m=\u001b[49m\u001b[43moutput_file_path\u001b[49m\u001b[43m,\u001b[49m\n\u001b[32m    313\u001b[39m \u001b[43m        \u001b[49m\u001b[43mbackground_color\u001b[49m\u001b[43m=\u001b[49m\u001b[43mbackground_color\u001b[49m\u001b[43m,\u001b[49m\n\u001b[32m    314\u001b[39m \u001b[43m        \u001b[49m\u001b[43mmax_retries\u001b[49m\u001b[43m=\u001b[49m\u001b[43mmax_retries\u001b[49m\u001b[43m,\u001b[49m\n\u001b[32m    315\u001b[39m \u001b[43m        \u001b[49m\u001b[43mretry_delay\u001b[49m\u001b[43m=\u001b[49m\u001b[43mretry_delay\u001b[49m\u001b[43m,\u001b[49m\n\u001b[32m    316\u001b[39m \u001b[43m        \u001b[49m\u001b[43mbase_url\u001b[49m\u001b[43m=\u001b[49m\u001b[43mbase_url\u001b[49m\u001b[43m,\u001b[49m\n\u001b[32m    317\u001b[39m \u001b[43m    \u001b[49m\u001b[43m)\u001b[49m\n\u001b[32m    318\u001b[39m \u001b[38;5;28;01melse\u001b[39;00m:\n\u001b[32m    319\u001b[39m     supported_methods = \u001b[33m\"\u001b[39m\u001b[33m, \u001b[39m\u001b[33m\"\u001b[39m.join([m.value \u001b[38;5;28;01mfor\u001b[39;00m m \u001b[38;5;129;01min\u001b[39;00m MermaidDrawMethod])\n",
      "\u001b[36mFile \u001b[39m\u001b[32mc:\\Users\\vinod\\AppData\\Local\\Programs\\Python\\Python312\\Lib\\site-packages\\langchain_core\\runnables\\graph_mermaid.py:468\u001b[39m, in \u001b[36m_render_mermaid_using_api\u001b[39m\u001b[34m(mermaid_syntax, output_file_path, background_color, file_type, max_retries, retry_delay, base_url)\u001b[39m\n\u001b[32m    463\u001b[39m     \u001b[38;5;66;03m# For other status codes, fail immediately\u001b[39;00m\n\u001b[32m    464\u001b[39m     msg = (\n\u001b[32m    465\u001b[39m         \u001b[33mf\u001b[39m\u001b[33m\"\u001b[39m\u001b[33mFailed to reach \u001b[39m\u001b[38;5;132;01m{\u001b[39;00mbase_url\u001b[38;5;132;01m}\u001b[39;00m\u001b[33m API while trying to render \u001b[39m\u001b[33m\"\u001b[39m\n\u001b[32m    466\u001b[39m         \u001b[33mf\u001b[39m\u001b[33m\"\u001b[39m\u001b[33myour graph. Status code: \u001b[39m\u001b[38;5;132;01m{\u001b[39;00mresponse.status_code\u001b[38;5;132;01m}\u001b[39;00m\u001b[33m.\u001b[39m\u001b[38;5;130;01m\\n\u001b[39;00m\u001b[38;5;130;01m\\n\u001b[39;00m\u001b[33m\"\u001b[39m\n\u001b[32m    467\u001b[39m     ) + error_msg_suffix\n\u001b[32m--> \u001b[39m\u001b[32m468\u001b[39m     \u001b[38;5;28;01mraise\u001b[39;00m \u001b[38;5;167;01mValueError\u001b[39;00m(msg)\n\u001b[32m    470\u001b[39m \u001b[38;5;28;01mexcept\u001b[39;00m (requests.RequestException, requests.Timeout) \u001b[38;5;28;01mas\u001b[39;00m e:\n\u001b[32m    471\u001b[39m     \u001b[38;5;28;01mif\u001b[39;00m attempt < max_retries:\n\u001b[32m    472\u001b[39m         \u001b[38;5;66;03m# Exponential backoff with jitter\u001b[39;00m\n",
      "\u001b[31mValueError\u001b[39m: Failed to reach https://mermaid.ink API while trying to render your graph. Status code: 204.\n\nTo resolve this issue:\n1. Check your internet connection and try again\n2. Try with higher retry settings: `draw_mermaid_png(..., max_retries=5, retry_delay=2.0)`\n3. Use the Pyppeteer rendering method which will render your graph locally in a browser: `draw_mermaid_png(..., draw_method=MermaidDrawMethod.PYPPETEER)`"
     ]
    }
   ],
   "source": [
    "# View the workflow structure\n",
    "from IPython.display import Image, display\n",
    "\n",
    "app = create_langgraph_workflow()\n",
    "print(\"Workflow created successfully!\")\n",
    "print(f\"Graph nodes: {list(app.nodes.keys())}\")\n",
    "\n",
    "# Show available methods and properties\n",
    "print(f\"\\nAvailable methods: {[method for method in dir(app) if not method.startswith('_')]}\")\n",
    "\n",
    "# Test the workflow with a simple input to see it in action\n",
    "print(\"\\n\" + \"=\"*50)\n",
    "print(\"Testing the compiled workflow:\")\n",
    "print(\"=\"*50)\n",
    "\n",
    "test_state = {\n",
    "    \"input_text\": \"Testing the workflow structure!\",\n",
    "    \"processed_text\": \"\",\n",
    "    \"transformed_text\": \"\",\n",
    "    \"output_text\": \"\",\n",
    "    \"step\": \"started\"\n",
    "}\n",
    "\n",
    "result = app.invoke(test_state)\n",
    "print(f\"\\nWorkflow execution result:\")\n",
    "print(f\"Final step: {result.get('step', 'unknown')}\")\n",
    "print(f\"Input: {result.get('input_text', 'N/A')}\")\n",
    "print(f\"Output: {result.get('output_text', 'N/A')}\")\n",
    "\n",
    "# Try to display the diagram with better error handling\n",
    "print(\"\\n\" + \"=\"*50)\n",
    "print(\"Attempting to render workflow diagram:\")\n",
    "print(\"=\"*50)\n",
    "\n",
    "try:\n",
    "    # Try to get the Mermaid diagram as text first\n",
    "    mermaid_text = app.get_graph().draw_mermaid()\n",
    "    print(\"\\n✅ Mermaid diagram generated successfully!\")\n",
    "    print(\"\\nMermaid Code (copy to https://mermaid.live):\")\n",
    "    print(\"-\" * 50)\n",
    "    print(mermaid_text)\n",
    "    print(\"-\" * 50)\n",
    "    \n",
    "    # Try to render PNG (might fail due to network issues)\n",
    "    print(\"\\n⏳ Attempting PNG rendering...\")\n",
    "    try:\n",
    "        img = app.get_graph().draw_mermaid_png(max_retries=2, retry_delay=1.0)\n",
    "        display(Image(img))\n",
    "        print(\"✅ PNG rendered successfully!\")\n",
    "    except Exception as png_error:\n",
    "        print(f\"⚠️ PNG rendering failed (network issue): {type(png_error).__name__}\")\n",
    "        print(\"\\n💡 Alternative options:\")\n",
    "        print(\"   1. Copy the Mermaid code above to https://mermaid.live\")\n",
    "        print(\"   2. Open DIAGRAMS.md and press Ctrl+Shift+V for preview\")\n",
    "        print(\"   3. Use LangGraph Studio at http://127.0.0.1:2024\")\n",
    "        \n",
    "except Exception as e:\n",
    "    print(f\"❌ Error: {e}\")\n",
    "    print(\"\\n💡 View diagrams in DIAGRAMS.md or LangGraph Studio\")"
   ]
  },
  {
   "cell_type": "code",
   "execution_count": 14,
   "id": "4ec72bc1",
   "metadata": {},
   "outputs": [
    {
     "name": "stdout",
     "output_type": "stream",
     "text": [
      "🚀 Starting LangGraph Workflow...\n",
      "==================================================\n",
      "🔍 Input Processor Node: Processing: HI\n",
      "🔄 Data Transformer Node: ✨ TRANSFORMED: Processing: HI ✨\n",
      "📤 Output Generator Node: Final output generated\n",
      "==================================================\n",
      "🎉 Workflow completed!\n",
      "📋 LANGGRAPH WORKFLOW RESULT\n",
      "═══════════════════════════\n",
      "Original Input: hi\n",
      "Final Output: ✨ TRANSFORMED: Processing: HI ✨\n",
      "═══════════════════════════\n",
      "✅ Processing completed successfully!\n"
     ]
    }
   ],
   "source": [
    "# Interactive testing - try your own input\n",
    "your_input = input(\"Enter your test message: \")\n",
    "custom_result = run_workflow(your_input)"
   ]
  }
 ],
 "metadata": {
  "kernelspec": {
   "display_name": "Python 3",
   "language": "python",
   "name": "python3"
  },
  "language_info": {
   "codemirror_mode": {
    "name": "ipython",
    "version": 3
   },
   "file_extension": ".py",
   "mimetype": "text/x-python",
   "name": "python",
   "nbconvert_exporter": "python",
   "pygments_lexer": "ipython3",
   "version": "3.12.7"
  }
 },
 "nbformat": 4,
 "nbformat_minor": 5
}
